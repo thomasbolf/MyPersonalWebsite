{
 "cells": [
  {
   "cell_type": "code",
   "execution_count": null,
   "metadata": {},
   "outputs": [],
   "source": [
    "import numpy as np\n",
    "import matplotlib.pyplot as plt\n",
    "from numpy import newaxis\n",
    "\n",
    "def compute_mandelbrot(N_max, some_threshold, nx, ny):\n",
    "    # A grid of c-values\n",
    "    x = np.linspace(-3, 1, nx)\n",
    "    y = np.linspace(-1.5, 1.5, ny)\n",
    "\n",
    "    c = x[:,newaxis] + 1j*y[newaxis,:]\n",
    "\n",
    "    # Mandelbrot iteration\n",
    "\n",
    "    z = c\n",
    "    for j in range(N_max):\n",
    "        z = z**2 + c\n",
    "    mandelbrot_set = (abs(z) < some_threshold)\n",
    "\n",
    "    return mandelbrot_set\n",
    "\n",
    "mandelbrot_set = compute_mandelbrot(50, 50., 601, 401)\n",
    "\n",
    "plt.imshow(mandelbrot_set.T, extent=[-2, 1, -1.5, 1.5])\n",
    "plt.gray()\n",
    "plt.show()"
   ]
  }
 ],
 "metadata": {
  "language_info": {
   "name": "python"
  }
 },
 "nbformat": 4,
 "nbformat_minor": 2
}
