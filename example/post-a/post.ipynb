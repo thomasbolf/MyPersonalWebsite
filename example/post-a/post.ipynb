{
 "cells": [
  {
   "cell_type": "raw",
   "id": "80fe68ec",
   "metadata": {
    "papermill": {
     "duration": 0.005259,
     "end_time": "2022-12-21T02:14:19.125255",
     "exception": false,
     "start_time": "2022-12-21T02:14:19.119996",
     "status": "completed"
    },
    "tags": []
   },
   "source": [
    "---\n",
    "title: My post\n",
    "jupyblog:\n",
    "    execute_code: false\n",
    "description: Some post description\n",
    "---"
   ]
  },
  {
   "cell_type": "code",
   "execution_count": null,
   "metadata": {},
   "outputs": [
    {
     "name": "stdout",
     "output_type": "stream",
     "text": [
      "Result is: 42\n"
     ]
    }
   ],
   "source": [
    "x = 21\n",
    "y = 2\n",
    "\n",
    "result = x * y\n",
    "print(f\"Result is: {result}\")"
   ]
  },
  {
   "cell_type": "markdown",
   "metadata": {},
   "source": []
  }
 ],
 "metadata": {
  "kernelspec": {
   "display_name": "Python 3",
   "language": "python",
   "name": "python3"
  },
  "language_info": {
   "codemirror_mode": {
    "name": "ipython",
    "version": 3
   },
   "file_extension": ".py",
   "mimetype": "text/x-python",
   "name": "python",
   "nbconvert_exporter": "python",
   "pygments_lexer": "ipython3",
   "version": "3.11.6"
  }
 },
 "nbformat": 4,
 "nbformat_minor": 2
}
